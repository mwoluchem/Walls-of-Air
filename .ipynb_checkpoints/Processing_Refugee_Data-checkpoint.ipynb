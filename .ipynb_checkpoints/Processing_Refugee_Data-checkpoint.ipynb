{
 "cells": [
  {
   "cell_type": "code",
   "execution_count": 1,
   "metadata": {
    "collapsed": true
   },
   "outputs": [],
   "source": [
    "import numpy as np\n",
    "import pandas as pd\n",
    "import matplotlib\n",
    "import matplotlib.pyplot as plt"
   ]
  },
  {
   "cell_type": "code",
   "execution_count": 2,
   "metadata": {},
   "outputs": [],
   "source": [
    "#Read in Migration data\n",
    "migration_data = pd.read_csv('Raw Data/Persons of Concern/for_map_unhcr_popstats_export_persons_of_concern_all_data.csv', dtype=str)\n",
    "\n",
    "#Rename data\n",
    "migration_data = migration_data.rename(columns={'Country / territory of asylum/residence': 'Country', 'Refugees (incl. refugee-like situations)': 'Refugees', 'Asylum-seekers (pending cases)': 'Asylum', 'Internally displaced persons (IDPs)': 'Internally displaced persons'})"
   ]
  },
  {
   "cell_type": "code",
   "execution_count": 3,
   "metadata": {},
   "outputs": [
    {
     "data": {
      "text/html": [
       "<div>\n",
       "<style>\n",
       "    .dataframe thead tr:only-child th {\n",
       "        text-align: right;\n",
       "    }\n",
       "\n",
       "    .dataframe thead th {\n",
       "        text-align: left;\n",
       "    }\n",
       "\n",
       "    .dataframe tbody tr th {\n",
       "        vertical-align: top;\n",
       "    }\n",
       "</style>\n",
       "<table border=\"1\" class=\"dataframe\">\n",
       "  <thead>\n",
       "    <tr style=\"text-align: right;\">\n",
       "      <th></th>\n",
       "      <th>Year</th>\n",
       "      <th>Country</th>\n",
       "      <th>Origin</th>\n",
       "      <th>Refugees</th>\n",
       "      <th>Asylum</th>\n",
       "      <th>Returned refugees</th>\n",
       "      <th>Internally displaced persons</th>\n",
       "      <th>Returned IDPs</th>\n",
       "      <th>Stateless persons</th>\n",
       "      <th>Others of concern</th>\n",
       "      <th>Total Population</th>\n",
       "    </tr>\n",
       "  </thead>\n",
       "  <tbody>\n",
       "    <tr>\n",
       "      <th>0</th>\n",
       "      <td>1951</td>\n",
       "      <td>Australia</td>\n",
       "      <td>Various/Unknown</td>\n",
       "      <td>180000</td>\n",
       "      <td>NaN</td>\n",
       "      <td>NaN</td>\n",
       "      <td>NaN</td>\n",
       "      <td>NaN</td>\n",
       "      <td>NaN</td>\n",
       "      <td>NaN</td>\n",
       "      <td>180000</td>\n",
       "    </tr>\n",
       "    <tr>\n",
       "      <th>1</th>\n",
       "      <td>1951</td>\n",
       "      <td>Austria</td>\n",
       "      <td>Various/Unknown</td>\n",
       "      <td>282000</td>\n",
       "      <td>NaN</td>\n",
       "      <td>NaN</td>\n",
       "      <td>NaN</td>\n",
       "      <td>NaN</td>\n",
       "      <td>NaN</td>\n",
       "      <td>NaN</td>\n",
       "      <td>282000</td>\n",
       "    </tr>\n",
       "    <tr>\n",
       "      <th>2</th>\n",
       "      <td>1951</td>\n",
       "      <td>Belgium</td>\n",
       "      <td>Various/Unknown</td>\n",
       "      <td>55000</td>\n",
       "      <td>NaN</td>\n",
       "      <td>NaN</td>\n",
       "      <td>NaN</td>\n",
       "      <td>NaN</td>\n",
       "      <td>NaN</td>\n",
       "      <td>NaN</td>\n",
       "      <td>55000</td>\n",
       "    </tr>\n",
       "    <tr>\n",
       "      <th>3</th>\n",
       "      <td>1951</td>\n",
       "      <td>Canada</td>\n",
       "      <td>Various/Unknown</td>\n",
       "      <td>168511</td>\n",
       "      <td>NaN</td>\n",
       "      <td>NaN</td>\n",
       "      <td>NaN</td>\n",
       "      <td>NaN</td>\n",
       "      <td>NaN</td>\n",
       "      <td>NaN</td>\n",
       "      <td>168511</td>\n",
       "    </tr>\n",
       "    <tr>\n",
       "      <th>4</th>\n",
       "      <td>1951</td>\n",
       "      <td>Switzerland</td>\n",
       "      <td>Various/Unknown</td>\n",
       "      <td>10000</td>\n",
       "      <td>NaN</td>\n",
       "      <td>NaN</td>\n",
       "      <td>NaN</td>\n",
       "      <td>NaN</td>\n",
       "      <td>NaN</td>\n",
       "      <td>NaN</td>\n",
       "      <td>10000</td>\n",
       "    </tr>\n",
       "  </tbody>\n",
       "</table>\n",
       "</div>"
      ],
      "text/plain": [
       "   Year      Country           Origin Refugees Asylum Returned refugees  \\\n",
       "0  1951    Australia  Various/Unknown   180000    NaN               NaN   \n",
       "1  1951      Austria  Various/Unknown   282000    NaN               NaN   \n",
       "2  1951      Belgium  Various/Unknown    55000    NaN               NaN   \n",
       "3  1951       Canada  Various/Unknown   168511    NaN               NaN   \n",
       "4  1951  Switzerland  Various/Unknown    10000    NaN               NaN   \n",
       "\n",
       "  Internally displaced persons Returned IDPs Stateless persons  \\\n",
       "0                          NaN           NaN               NaN   \n",
       "1                          NaN           NaN               NaN   \n",
       "2                          NaN           NaN               NaN   \n",
       "3                          NaN           NaN               NaN   \n",
       "4                          NaN           NaN               NaN   \n",
       "\n",
       "  Others of concern Total Population  \n",
       "0               NaN           180000  \n",
       "1               NaN           282000  \n",
       "2               NaN            55000  \n",
       "3               NaN           168511  \n",
       "4               NaN            10000  "
      ]
     },
     "execution_count": 3,
     "metadata": {},
     "output_type": "execute_result"
    }
   ],
   "source": [
    "migration_data.head()"
   ]
  },
  {
   "cell_type": "code",
   "execution_count": 4,
   "metadata": {
    "collapsed": true
   },
   "outputs": [],
   "source": [
    "#Make a new dataset just for refugees going into Brazil and reset the index of that dataset\n",
    "refugees_in = migration_data.loc[migration_data['Country'] == 'Brazil']\n",
    "refugees_in = refugees_in.reset_index(drop=True)\n",
    "\n",
    "#Note - there are a few values that have an * which denotes an unclear count in that category. \n",
    "#In our data, we will replace them with zeros\n",
    "\n",
    "refugees_in.replace(['*'], [0], inplace=True) \n",
    "refugees_in.fillna(0, inplace=True)\n",
    "\n",
    "#Convert columns to numeric where necessary. \n",
    "refugees_in[['Year','Refugees','Asylum','Returned refugees','Internally displaced persons','Returned IDPs','Stateless persons','Others of concern','Total Population']] = refugees_in[['Year','Refugees','Asylum','Returned refugees','Internally displaced persons','Returned IDPs','Stateless persons','Others of concern','Total Population']].apply(pd.to_numeric)\n",
    "\n",
    "#Export refugees_in to CSV\n",
    "refugees_in.to_csv('Processed Data/refugees_in.csv')"
   ]
  },
  {
   "cell_type": "code",
   "execution_count": 5,
   "metadata": {},
   "outputs": [],
   "source": [
    "#Make a new dataset that summarizes in-migration of refugees by year\n",
    "refugees_in_by_year = refugees_in.groupby(['Year'])['Refugees','Asylum','Returned refugees','Internally displaced persons','Returned IDPs','Stateless persons','Others of concern','Total Population'].sum()\n",
    "refugees_in_by_year.head()\n",
    "\n",
    "#Export refugees_out_by_year to CSV\n",
    "refugees_in_by_year.to_csv('Processed Data/refugees_in_by_year.csv')"
   ]
  },
  {
   "cell_type": "code",
   "execution_count": 6,
   "metadata": {},
   "outputs": [],
   "source": [
    "#Make a new dataset just for refugees coming out Brazil and reset the index of that dataset\n",
    "refugees_out = migration_data.loc[migration_data['Origin'] == 'Brazil']\n",
    "refugees_out = refugees_out.reset_index(drop=True)\n",
    "\n",
    "#Note - there are a few values that have an * which denotes an unclear count in that category. \n",
    "#In our data, we will replace them with zeros\n",
    "\n",
    "refugees_out.replace(['*'], [0], inplace=True) \n",
    "refugees_out.fillna(0, inplace=True)\n",
    "\n",
    "#Convert columns to numeric where necessary. \n",
    "refugees_out[['Year','Refugees','Asylum','Returned refugees','Internally displaced persons','Returned IDPs','Stateless persons','Others of concern','Total Population']] = refugees_out[['Year','Refugees','Asylum','Returned refugees','Internally displaced persons','Returned IDPs','Stateless persons','Others of concern','Total Population']].apply(pd.to_numeric)\n",
    "\n",
    "#Export refugees_out to CSV\n",
    "refugees_out.to_csv('Processed Data/refugees_out.csv')\n"
   ]
  },
  {
   "cell_type": "code",
   "execution_count": 7,
   "metadata": {},
   "outputs": [],
   "source": [
    "#Make a new dataset that summarizes out-migration of refugees by year\n",
    "refugees_out_by_year = refugees_out.groupby(['Year'])['Refugees','Asylum','Returned refugees','Internally displaced persons','Returned IDPs','Stateless persons','Others of concern','Total Population'].sum()\n",
    "refugees_out_by_year.head()\n",
    "\n",
    "#Export refugees_out_by_year to CSV\n",
    "refugees_out_by_year.to_csv('Processed Data/refugees_out_by_year.csv')\n"
   ]
  },
  {
   "cell_type": "code",
   "execution_count": 8,
   "metadata": {},
   "outputs": [],
   "source": [
    "#Now merge to complete dataset.\n",
    "\n",
    "\n",
    "refugees_net_by_year = pd.merge(refugees_in_by_year.add_suffix('_in'), refugees_out_by_year.add_suffix('_out'), left_index=True, right_index=True, how='outer')\n",
    "\n",
    "#Clean to get rid of the NaN - fill them in with zeros!\n",
    "refugees_net_by_year.fillna(0, inplace=True)\n",
    "refugees_net_by_year\n",
    "\n",
    "#Write a function to get net values\n",
    "out_vars = list(refugees_out_by_year.add_suffix('_out').columns.values)\n",
    "in_vars = list(refugees_in_by_year.add_suffix('_in').columns.values)\n",
    "root_vars = list(refugees_in_by_year.columns.values)\n",
    "\n",
    "#for i in :\n",
    "    #root_vars[i] = out_vars[i] - in_vars[i]\n",
    "    \n",
    "#root_vars_test = ['Refugees', 'Asylum']\n",
    "    \n",
    "for i in root_vars:\n",
    "    refugees_net_by_year[f'{i}_net'] = refugees_net_by_year[f'{i}_out'] - refugees_net_by_year[f'{i}_in']\n",
    "    \n",
    "refugees_net_by_year\n",
    "\n",
    "refugees_net_by_year.to_csv('Processed Data/refugees_net_by_year.csv')\n",
    "\n"
   ]
  },
  {
   "cell_type": "code",
   "execution_count": null,
   "metadata": {},
   "outputs": [],
   "source": []
  },
  {
   "cell_type": "code",
   "execution_count": null,
   "metadata": {},
   "outputs": [],
   "source": []
  },
  {
   "cell_type": "code",
   "execution_count": null,
   "metadata": {
    "scrolled": false
   },
   "outputs": [],
   "source": []
  },
  {
   "cell_type": "code",
   "execution_count": null,
   "metadata": {},
   "outputs": [],
   "source": []
  },
  {
   "cell_type": "code",
   "execution_count": null,
   "metadata": {},
   "outputs": [],
   "source": []
  },
  {
   "cell_type": "code",
   "execution_count": null,
   "metadata": {},
   "outputs": [],
   "source": []
  },
  {
   "cell_type": "code",
   "execution_count": null,
   "metadata": {},
   "outputs": [],
   "source": []
  },
  {
   "cell_type": "code",
   "execution_count": null,
   "metadata": {},
   "outputs": [],
   "source": []
  },
  {
   "cell_type": "code",
   "execution_count": null,
   "metadata": {},
   "outputs": [],
   "source": []
  },
  {
   "cell_type": "code",
   "execution_count": null,
   "metadata": {},
   "outputs": [],
   "source": []
  },
  {
   "cell_type": "code",
   "execution_count": null,
   "metadata": {},
   "outputs": [],
   "source": []
  },
  {
   "cell_type": "code",
   "execution_count": null,
   "metadata": {
    "scrolled": true
   },
   "outputs": [],
   "source": []
  },
  {
   "cell_type": "code",
   "execution_count": null,
   "metadata": {},
   "outputs": [],
   "source": []
  },
  {
   "cell_type": "code",
   "execution_count": null,
   "metadata": {
    "collapsed": true
   },
   "outputs": [],
   "source": []
  },
  {
   "cell_type": "code",
   "execution_count": null,
   "metadata": {},
   "outputs": [],
   "source": []
  },
  {
   "cell_type": "code",
   "execution_count": null,
   "metadata": {},
   "outputs": [],
   "source": []
  },
  {
   "cell_type": "code",
   "execution_count": null,
   "metadata": {},
   "outputs": [],
   "source": []
  },
  {
   "cell_type": "code",
   "execution_count": null,
   "metadata": {
    "collapsed": true
   },
   "outputs": [],
   "source": []
  },
  {
   "cell_type": "code",
   "execution_count": null,
   "metadata": {},
   "outputs": [],
   "source": []
  },
  {
   "cell_type": "code",
   "execution_count": null,
   "metadata": {},
   "outputs": [],
   "source": []
  },
  {
   "cell_type": "code",
   "execution_count": null,
   "metadata": {},
   "outputs": [],
   "source": []
  },
  {
   "cell_type": "code",
   "execution_count": null,
   "metadata": {
    "scrolled": true
   },
   "outputs": [],
   "source": []
  },
  {
   "cell_type": "code",
   "execution_count": null,
   "metadata": {
    "scrolled": true
   },
   "outputs": [],
   "source": []
  },
  {
   "cell_type": "code",
   "execution_count": null,
   "metadata": {
    "collapsed": true
   },
   "outputs": [],
   "source": []
  }
 ],
 "metadata": {
  "kernelspec": {
   "display_name": "Python 3",
   "language": "python",
   "name": "python3"
  },
  "language_info": {
   "codemirror_mode": {
    "name": "ipython",
    "version": 3
   },
   "file_extension": ".py",
   "mimetype": "text/x-python",
   "name": "python",
   "nbconvert_exporter": "python",
   "pygments_lexer": "ipython3",
   "version": "3.6.1"
  }
 },
 "nbformat": 4,
 "nbformat_minor": 2
}
